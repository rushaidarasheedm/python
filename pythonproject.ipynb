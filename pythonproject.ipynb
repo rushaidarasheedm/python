{
 "cells": [
  {
   "cell_type": "code",
   "execution_count": 6,
   "id": "62ae81a3-0689-4d85-88a7-e7f079004432",
   "metadata": {},
   "outputs": [
    {
     "data": {
      "text/html": [
       "<div>\n",
       "<style scoped>\n",
       "    .dataframe tbody tr th:only-of-type {\n",
       "        vertical-align: middle;\n",
       "    }\n",
       "\n",
       "    .dataframe tbody tr th {\n",
       "        vertical-align: top;\n",
       "    }\n",
       "\n",
       "    .dataframe thead th {\n",
       "        text-align: right;\n",
       "    }\n",
       "</style>\n",
       "<table border=\"1\" class=\"dataframe\">\n",
       "  <thead>\n",
       "    <tr style=\"text-align: right;\">\n",
       "      <th></th>\n",
       "      <th>Name</th>\n",
       "      <th>Team</th>\n",
       "      <th>Number</th>\n",
       "      <th>Position</th>\n",
       "      <th>Age</th>\n",
       "      <th>Height</th>\n",
       "      <th>Weight</th>\n",
       "      <th>College</th>\n",
       "      <th>Salary</th>\n",
       "    </tr>\n",
       "  </thead>\n",
       "  <tbody>\n",
       "    <tr>\n",
       "      <th>0</th>\n",
       "      <td>Avery Bradley</td>\n",
       "      <td>Boston Celtics</td>\n",
       "      <td>0</td>\n",
       "      <td>PG</td>\n",
       "      <td>25</td>\n",
       "      <td>06-Feb</td>\n",
       "      <td>180</td>\n",
       "      <td>Texas</td>\n",
       "      <td>7730337.0</td>\n",
       "    </tr>\n",
       "    <tr>\n",
       "      <th>1</th>\n",
       "      <td>Jae Crowder</td>\n",
       "      <td>Boston Celtics</td>\n",
       "      <td>99</td>\n",
       "      <td>SF</td>\n",
       "      <td>25</td>\n",
       "      <td>06-Jun</td>\n",
       "      <td>235</td>\n",
       "      <td>Marquette</td>\n",
       "      <td>6796117.0</td>\n",
       "    </tr>\n",
       "    <tr>\n",
       "      <th>2</th>\n",
       "      <td>John Holland</td>\n",
       "      <td>Boston Celtics</td>\n",
       "      <td>30</td>\n",
       "      <td>SG</td>\n",
       "      <td>27</td>\n",
       "      <td>06-May</td>\n",
       "      <td>205</td>\n",
       "      <td>Boston University</td>\n",
       "      <td>NaN</td>\n",
       "    </tr>\n",
       "    <tr>\n",
       "      <th>3</th>\n",
       "      <td>R.J. Hunter</td>\n",
       "      <td>Boston Celtics</td>\n",
       "      <td>28</td>\n",
       "      <td>SG</td>\n",
       "      <td>22</td>\n",
       "      <td>06-May</td>\n",
       "      <td>185</td>\n",
       "      <td>Georgia State</td>\n",
       "      <td>1148640.0</td>\n",
       "    </tr>\n",
       "    <tr>\n",
       "      <th>4</th>\n",
       "      <td>Jonas Jerebko</td>\n",
       "      <td>Boston Celtics</td>\n",
       "      <td>8</td>\n",
       "      <td>PF</td>\n",
       "      <td>29</td>\n",
       "      <td>06-Oct</td>\n",
       "      <td>231</td>\n",
       "      <td>NaN</td>\n",
       "      <td>5000000.0</td>\n",
       "    </tr>\n",
       "    <tr>\n",
       "      <th>...</th>\n",
       "      <td>...</td>\n",
       "      <td>...</td>\n",
       "      <td>...</td>\n",
       "      <td>...</td>\n",
       "      <td>...</td>\n",
       "      <td>...</td>\n",
       "      <td>...</td>\n",
       "      <td>...</td>\n",
       "      <td>...</td>\n",
       "    </tr>\n",
       "    <tr>\n",
       "      <th>453</th>\n",
       "      <td>Shelvin Mack</td>\n",
       "      <td>Utah Jazz</td>\n",
       "      <td>8</td>\n",
       "      <td>PG</td>\n",
       "      <td>26</td>\n",
       "      <td>06-Mar</td>\n",
       "      <td>203</td>\n",
       "      <td>Butler</td>\n",
       "      <td>2433333.0</td>\n",
       "    </tr>\n",
       "    <tr>\n",
       "      <th>454</th>\n",
       "      <td>Raul Neto</td>\n",
       "      <td>Utah Jazz</td>\n",
       "      <td>25</td>\n",
       "      <td>PG</td>\n",
       "      <td>24</td>\n",
       "      <td>06-Jan</td>\n",
       "      <td>179</td>\n",
       "      <td>NaN</td>\n",
       "      <td>900000.0</td>\n",
       "    </tr>\n",
       "    <tr>\n",
       "      <th>455</th>\n",
       "      <td>Tibor Pleiss</td>\n",
       "      <td>Utah Jazz</td>\n",
       "      <td>21</td>\n",
       "      <td>C</td>\n",
       "      <td>26</td>\n",
       "      <td>07-Mar</td>\n",
       "      <td>256</td>\n",
       "      <td>NaN</td>\n",
       "      <td>2900000.0</td>\n",
       "    </tr>\n",
       "    <tr>\n",
       "      <th>456</th>\n",
       "      <td>Jeff Withey</td>\n",
       "      <td>Utah Jazz</td>\n",
       "      <td>24</td>\n",
       "      <td>C</td>\n",
       "      <td>26</td>\n",
       "      <td>7-0</td>\n",
       "      <td>231</td>\n",
       "      <td>Kansas</td>\n",
       "      <td>947276.0</td>\n",
       "    </tr>\n",
       "    <tr>\n",
       "      <th>457</th>\n",
       "      <td>Priyanka</td>\n",
       "      <td>Utah Jazz</td>\n",
       "      <td>34</td>\n",
       "      <td>C</td>\n",
       "      <td>25</td>\n",
       "      <td>07-Mar</td>\n",
       "      <td>231</td>\n",
       "      <td>Kansas</td>\n",
       "      <td>947276.0</td>\n",
       "    </tr>\n",
       "  </tbody>\n",
       "</table>\n",
       "<p>458 rows × 9 columns</p>\n",
       "</div>"
      ],
      "text/plain": [
       "              Name            Team  Number Position  Age  Height  Weight  \\\n",
       "0    Avery Bradley  Boston Celtics       0       PG   25  06-Feb     180   \n",
       "1      Jae Crowder  Boston Celtics      99       SF   25  06-Jun     235   \n",
       "2     John Holland  Boston Celtics      30       SG   27  06-May     205   \n",
       "3      R.J. Hunter  Boston Celtics      28       SG   22  06-May     185   \n",
       "4    Jonas Jerebko  Boston Celtics       8       PF   29  06-Oct     231   \n",
       "..             ...             ...     ...      ...  ...     ...     ...   \n",
       "453   Shelvin Mack       Utah Jazz       8       PG   26  06-Mar     203   \n",
       "454      Raul Neto       Utah Jazz      25       PG   24  06-Jan     179   \n",
       "455   Tibor Pleiss       Utah Jazz      21        C   26  07-Mar     256   \n",
       "456    Jeff Withey       Utah Jazz      24        C   26     7-0     231   \n",
       "457       Priyanka       Utah Jazz      34        C   25  07-Mar     231   \n",
       "\n",
       "               College     Salary  \n",
       "0                Texas  7730337.0  \n",
       "1            Marquette  6796117.0  \n",
       "2    Boston University        NaN  \n",
       "3        Georgia State  1148640.0  \n",
       "4                  NaN  5000000.0  \n",
       "..                 ...        ...  \n",
       "453             Butler  2433333.0  \n",
       "454                NaN   900000.0  \n",
       "455                NaN  2900000.0  \n",
       "456             Kansas   947276.0  \n",
       "457             Kansas   947276.0  \n",
       "\n",
       "[458 rows x 9 columns]"
      ]
     },
     "execution_count": 6,
     "metadata": {},
     "output_type": "execute_result"
    }
   ],
   "source": [
    "import pandas as pd\n",
    "import numpy as np\n",
    "import matplotlib.pyplot as plt\n",
    "\n",
    "# Load the dataset\n",
    "df = pd.read_csv('C:\\\\Users\\\\HP\\\\Downloads\\\\myexcel.csv')\n",
    "\n",
    "df\n"
   ]
  },
  {
   "cell_type": "code",
   "execution_count": 7,
   "id": "d820b0bd-c0ee-4e2b-b29a-aaa3b3ec02ae",
   "metadata": {},
   "outputs": [
    {
     "name": "stdout",
     "output_type": "stream",
     "text": [
      "            Name            Team  Number Position  Age  Height  Weight  \\\n",
      "0  Avery Bradley  Boston Celtics       0       PG   25  06-Feb     180   \n",
      "1    Jae Crowder  Boston Celtics      99       SF   25  06-Jun     235   \n",
      "2   John Holland  Boston Celtics      30       SG   27  06-May     205   \n",
      "3    R.J. Hunter  Boston Celtics      28       SG   22  06-May     185   \n",
      "4  Jonas Jerebko  Boston Celtics       8       PF   29  06-Oct     231   \n",
      "\n",
      "             College     Salary  \n",
      "0              Texas  7730337.0  \n",
      "1          Marquette  6796117.0  \n",
      "2  Boston University        NaN  \n",
      "3      Georgia State  1148640.0  \n",
      "4                NaN  5000000.0  \n"
     ]
    }
   ],
   "source": [
    "print(df.head())\n"
   ]
  },
  {
   "cell_type": "code",
   "execution_count": 8,
   "id": "b3074f87-aba9-4cca-ab0d-e957ccfc504f",
   "metadata": {},
   "outputs": [
    {
     "name": "stdout",
     "output_type": "stream",
     "text": [
      "1. Number of employees in each team and their percentage:\n",
      "Team\n",
      "New Orleans Pelicans      19\n",
      "Memphis Grizzlies         18\n",
      "Utah Jazz                 16\n",
      "New York Knicks           16\n",
      "Milwaukee Bucks           16\n",
      "Brooklyn Nets             15\n",
      "Portland Trail Blazers    15\n",
      "Oklahoma City Thunder     15\n",
      "Denver Nuggets            15\n",
      "Washington Wizards        15\n",
      "Miami Heat                15\n",
      "Charlotte Hornets         15\n",
      "Atlanta Hawks             15\n",
      "San Antonio Spurs         15\n",
      "Houston Rockets           15\n",
      "Boston Celtics            15\n",
      "Indiana Pacers            15\n",
      "Detroit Pistons           15\n",
      "Cleveland Cavaliers       15\n",
      "Chicago Bulls             15\n",
      "Sacramento Kings          15\n",
      "Phoenix Suns              15\n",
      "Los Angeles Lakers        15\n",
      "Los Angeles Clippers      15\n",
      "Golden State Warriors     15\n",
      "Toronto Raptors           15\n",
      "Philadelphia 76ers        15\n",
      "Dallas Mavericks          15\n",
      "Orlando Magic             14\n",
      "Minnesota Timberwolves    14\n",
      "Name: count, dtype: int64\n",
      "Team\n",
      "New Orleans Pelicans      4.148472\n",
      "Memphis Grizzlies         3.930131\n",
      "Utah Jazz                 3.493450\n",
      "New York Knicks           3.493450\n",
      "Milwaukee Bucks           3.493450\n",
      "Brooklyn Nets             3.275109\n",
      "Portland Trail Blazers    3.275109\n",
      "Oklahoma City Thunder     3.275109\n",
      "Denver Nuggets            3.275109\n",
      "Washington Wizards        3.275109\n",
      "Miami Heat                3.275109\n",
      "Charlotte Hornets         3.275109\n",
      "Atlanta Hawks             3.275109\n",
      "San Antonio Spurs         3.275109\n",
      "Houston Rockets           3.275109\n",
      "Boston Celtics            3.275109\n",
      "Indiana Pacers            3.275109\n",
      "Detroit Pistons           3.275109\n",
      "Cleveland Cavaliers       3.275109\n",
      "Chicago Bulls             3.275109\n",
      "Sacramento Kings          3.275109\n",
      "Phoenix Suns              3.275109\n",
      "Los Angeles Lakers        3.275109\n",
      "Los Angeles Clippers      3.275109\n",
      "Golden State Warriors     3.275109\n",
      "Toronto Raptors           3.275109\n",
      "Philadelphia 76ers        3.275109\n",
      "Dallas Mavericks          3.275109\n",
      "Orlando Magic             3.056769\n",
      "Minnesota Timberwolves    3.056769\n",
      "Name: count, dtype: float64\n"
     ]
    }
   ],
   "source": [
    "team_counts = df['Team'].value_counts()\n",
    "total_employees = len(df)\n",
    "team_percentages = (team_counts / total_employees) * 100\n",
    "print(\"1. Number of employees in each team and their percentage:\")\n",
    "print(team_counts)\n",
    "print(team_percentages)"
   ]
  },
  {
   "cell_type": "code",
   "execution_count": 9,
   "id": "71986663-4de3-4ac1-950c-cacb3425c0d1",
   "metadata": {},
   "outputs": [
    {
     "name": "stdout",
     "output_type": "stream",
     "text": [
      "\n",
      "2. Number of employees in each position:\n",
      "Position\n",
      "SG    102\n",
      "PF    100\n",
      "PG     92\n",
      "SF     85\n",
      "C      79\n",
      "Name: count, dtype: int64\n"
     ]
    }
   ],
   "source": [
    "#2\n",
    "position_counts = df['Position'].value_counts()\n",
    "print(\"\\n2. Number of employees in each position:\")\n",
    "print(position_counts)\n"
   ]
  },
  {
   "cell_type": "code",
   "execution_count": 10,
   "id": "da8bf3cf-0e95-4682-a542-df7db27b4f79",
   "metadata": {},
   "outputs": [
    {
     "name": "stdout",
     "output_type": "stream",
     "text": [
      "\n",
      "3. Number of employees in each age group:\n",
      "Age\n",
      "(20, 30]    346\n",
      "(30, 40]     91\n",
      "(40, 50]      0\n",
      "(50, 60]      0\n",
      "(60, 70]      0\n",
      "Name: count, dtype: int64\n"
     ]
    }
   ],
   "source": [
    "#Find from which age group most of the employees belong to.\n",
    "age_bins = pd.cut(df['Age'], bins=[20, 30, 40, 50, 60, 70])\n",
    "age_group_counts = age_bins.value_counts().sort_index()\n",
    "print(\"\\n3. Number of employees in each age group:\")\n",
    "print(age_group_counts)\n"
   ]
  },
  {
   "cell_type": "code",
   "execution_count": 11,
   "id": "97376eff-262e-4230-8cda-6cb8513d82a5",
   "metadata": {},
   "outputs": [
    {
     "name": "stdout",
     "output_type": "stream",
     "text": [
      "\n",
      "4. Team and position with the highest spending in terms of salary:\n",
      "('Los Angeles Lakers', 'SF')\n"
     ]
    }
   ],
   "source": [
    "# 4. Find out under which team and position, spending in terms of salary is high.\n",
    "high_salary_team_position = df.groupby(['Team', 'Position'])['Salary'].sum().idxmax()\n",
    "print(\"\\n4. Team and position with the highest spending in terms of salary:\")\n",
    "print(high_salary_team_position)"
   ]
  },
  {
   "cell_type": "code",
   "execution_count": 13,
   "id": "646a44ad-3d9f-464c-998a-b5cb9e43f0e5",
   "metadata": {},
   "outputs": [
    {
     "data": {
      "image/png": "[encoded data removed]",
      "text/plain": [
       "<Figure size 640x480 with 1 Axes>"
      ]
     },
     "metadata": {},
     "output_type": "display_data"
    }
   ],
   "source": [
    " #5. Find if there is any correlation between age and salary, represent it visually.\n",
    "plt.scatter(df['Age'], df['Salary'])\n",
    "plt.title('Age vs Salary')\n",
    "plt.xlabel('Age')\n",
    "plt.ylabel('Salary')\n",
    "plt.show()"
   ]
  },
  {
   "cell_type": "code",
   "execution_count": 14,
   "id": "35b7d48f-3f80-4c4f-933f-b22724d5fc12",
   "metadata": {},
   "outputs": [
    {
     "name": "stdout",
     "output_type": "stream",
     "text": [
      "\n",
      "5. Correlation between age and salary: 0.2140094122657097\n"
     ]
    }
   ],
   "source": [
    "# Calculating correlation \n",
    "correlation = df['Age'].corr(df['Salary'])\n",
    "print(\"\\n5. Correlation between age and salary:\", correlation)\n"
   ]
  },
  {
   "cell_type": "code",
   "execution_count": 15,
   "id": "a16a5754-4a1f-4641-a8fd-60d7ba0b4671",
   "metadata": {},
   "outputs": [
    {
     "name": "stderr",
     "output_type": "stream",
     "text": [
      "C:\\Users\\HP\\AppData\\Local\\Temp\\ipykernel_7940\\3414234632.py:1: FutureWarning: The default of observed=False is deprecated and will be changed to True in a future version of pandas. Pass observed=False to retain current behavior or observed=True to adopt the future default and silence this warning.\n",
      "  age_salary_mean = df.groupby(age_bins)['Salary'].mean()\n"
     ]
    },
    {
     "data": {
      "image/png": "[encoded data removed]",
      "text/plain": [
       "<Figure size 640x480 with 1 Axes>"
      ]
     },
     "metadata": {},
     "output_type": "display_data"
    }
   ],
   "source": [
    "age_salary_mean = df.groupby(age_bins)['Salary'].mean()\n",
    "age_salary_mean.plot(kind='bar', color='skyblue')\n",
    "plt.title('Mean Salary by Age Group')\n",
    "plt.xlabel('Age Group')\n",
    "plt.ylabel('Mean Salary')\n",
    "plt.xticks(rotation=45)\n",
    "plt.show()\n",
    "\n"
   ]
  }
 ],
 "metadata": {
  "kernelspec": {
   "display_name": "Python 3 (ipykernel)",
   "language": "python",
   "name": "python3"
  },
  "language_info": {
   "codemirror_mode": {
    "name": "ipython",
    "version": 3
   },
   "file_extension": ".py",
   "mimetype": "text/x-python",
   "name": "python",
   "nbconvert_exporter": "python",
   "pygments_lexer": "ipython3",
   "version": "3.11.5"
  }
 },
 "nbformat": 4,
 "nbformat_minor": 5
}
